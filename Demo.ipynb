{
 "cells": [
  {
   "cell_type": "markdown",
   "id": "directed-reproduction",
   "metadata": {},
   "source": [
    "# Demo Notebook\n",
    "\n",
    "### Scope:\n",
    "\n"
   ]
  },
  {
   "cell_type": "code",
   "execution_count": 1,
   "id": "domestic-stability",
   "metadata": {},
   "outputs": [
    {
     "name": "stdout",
     "output_type": "stream",
     "text": [
      "{'kind': 'youtube#searchListResponse', 'etag': 'F9tLz6D5R0-MSVsbdCHEJKFev58', 'nextPageToken': 'CAUQAA', 'regionCode': 'US', 'pageInfo': {'totalResults': 1000000, 'resultsPerPage': 5}, 'items': [{'kind': 'youtube#searchResult', 'etag': '5RDx_oNhQ-NShN-RFE2BaBxfrJM', 'id': {'kind': 'youtube#video', 'videoId': 'uLUWk7h5Vps'}}, {'kind': 'youtube#searchResult', 'etag': 'qp6vry9KPqzxktg9aAy8_2Uj-4s', 'id': {'kind': 'youtube#video', 'videoId': 'DBR4_S7ZMy4'}}, {'kind': 'youtube#searchResult', 'etag': 'viEz23MWsRobYD0wPvfQKCfTnno', 'id': {'kind': 'youtube#video', 'videoId': 'wiODqHfgf5Q'}}, {'kind': 'youtube#searchResult', 'etag': '8A2XWVOtZRx7YEV2ZHCWqd6hJFQ', 'id': {'kind': 'youtube#video', 'videoId': 'ovLsSPj9Ldc'}}, {'kind': 'youtube#searchResult', 'etag': 'Fg8u7Fi2bzaDizprY9K4uoAMdTk', 'id': {'kind': 'youtube#video', 'videoId': '261GVdvTYiA'}}]}\n"
     ]
    }
   ],
   "source": [
    "import requests\n",
    "\n",
    "api_key = \"\"\n",
    "\n",
    "\n",
    "url = f\"https://www.googleapis.com/youtube/v3/search?key={api_key}&q=minecraft\"\n",
    "\n",
    "response = requests.get(url)\n",
    "\n",
    "print(response.json())"
   ]
  },
  {
   "cell_type": "code",
   "execution_count": 2,
   "id": "insured-beads",
   "metadata": {},
   "outputs": [],
   "source": [
    "js = response.json()"
   ]
  },
  {
   "cell_type": "code",
   "execution_count": 3,
   "id": "precise-grove",
   "metadata": {},
   "outputs": [
    {
     "data": {
      "text/plain": [
       "[{'kind': 'youtube#searchResult',\n",
       "  'etag': '5RDx_oNhQ-NShN-RFE2BaBxfrJM',\n",
       "  'id': {'kind': 'youtube#video', 'videoId': 'uLUWk7h5Vps'}},\n",
       " {'kind': 'youtube#searchResult',\n",
       "  'etag': 'qp6vry9KPqzxktg9aAy8_2Uj-4s',\n",
       "  'id': {'kind': 'youtube#video', 'videoId': 'DBR4_S7ZMy4'}},\n",
       " {'kind': 'youtube#searchResult',\n",
       "  'etag': 'viEz23MWsRobYD0wPvfQKCfTnno',\n",
       "  'id': {'kind': 'youtube#video', 'videoId': 'wiODqHfgf5Q'}},\n",
       " {'kind': 'youtube#searchResult',\n",
       "  'etag': '8A2XWVOtZRx7YEV2ZHCWqd6hJFQ',\n",
       "  'id': {'kind': 'youtube#video', 'videoId': 'ovLsSPj9Ldc'}},\n",
       " {'kind': 'youtube#searchResult',\n",
       "  'etag': 'Fg8u7Fi2bzaDizprY9K4uoAMdTk',\n",
       "  'id': {'kind': 'youtube#video', 'videoId': '261GVdvTYiA'}}]"
      ]
     },
     "execution_count": 3,
     "metadata": {},
     "output_type": "execute_result"
    }
   ],
   "source": [
    "js[\"items\"]"
   ]
  },
  {
   "cell_type": "code",
   "execution_count": null,
   "id": "arabic-compilation",
   "metadata": {},
   "outputs": [],
   "source": []
  }
 ],
 "metadata": {
  "kernelspec": {
   "display_name": "Python 3 (ipykernel)",
   "language": "python",
   "name": "python3"
  },
  "language_info": {
   "codemirror_mode": {
    "name": "ipython",
    "version": 3
   },
   "file_extension": ".py",
   "mimetype": "text/x-python",
   "name": "python",
   "nbconvert_exporter": "python",
   "pygments_lexer": "ipython3",
   "version": "3.9.2"
  },
  "toc": {
   "base_numbering": 1,
   "nav_menu": {},
   "number_sections": true,
   "sideBar": true,
   "skip_h1_title": true,
   "title_cell": "Table of Contents",
   "title_sidebar": "Contents",
   "toc_cell": false,
   "toc_position": {},
   "toc_section_display": true,
   "toc_window_display": true
  }
 },
 "nbformat": 4,
 "nbformat_minor": 5
}
